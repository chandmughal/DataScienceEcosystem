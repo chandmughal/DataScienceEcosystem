{
 "cells": [
  {
   "cell_type": "markdown",
   "id": "53bfd2a8-7724-4566-a1a5-cc91ca6dbb32",
   "metadata": {},
   "source": [
    "# Data Science Tools and Ecosystem\n"
   ]
  },
  {
   "cell_type": "markdown",
   "id": "ac6ecf0f-6ae0-48b3-91ae-25fd4ed9bce1",
   "metadata": {},
   "source": [
    "## Introduction\n",
    "\n",
    "In this notebook, Data Science Tools and Ecosystem are summarized.\n"
   ]
  },
  {
   "cell_type": "markdown",
   "id": "f9ba591f-11b5-4433-906f-722b1e18cebb",
   "metadata": {},
   "source": [
    "## Popular Data Science Languages\n",
    "\n",
    "Some of the popular languages that Data Scientists use are:\n",
    "\n",
    "1. Python\n",
    "2. R\n",
    "3. SQL\n"
   ]
  },
  {
   "cell_type": "markdown",
   "id": "2c3c168b-ba24-417d-b3ff-c64c96de9b63",
   "metadata": {
    "tags": []
   },
   "source": [
    "### Below are a few examples of evaluating arithmetic expressions in Python"
   ]
  },
  {
   "cell_type": "markdown",
   "id": "e2b382d5-5fad-4a47-a71d-dd7f66f99b82",
   "metadata": {},
   "source": [
    "## Data Science Tools\n",
    "\n",
    "| Data Science Tools |\n",
    "|--------------------|\n",
    "| Jupyter Notebook   |\n",
    "| RStudio            |\n",
    "| Spyder             |\n"
   ]
  },
  {
   "cell_type": "markdown",
   "id": "acd45168-2b8d-4c8e-8d7c-bc0a9623650c",
   "metadata": {},
   "source": [
    "# This is a simple arithmetic expression to multiply then add integers.\n",
    "result = (3 * 4) + 5\n",
    "result = 17 \n"
   ]
  },
  {
   "cell_type": "markdown",
   "id": "7f91aa5d-fdf0-4bcf-81b6-a487838cc99e",
   "metadata": {},
   "source": [
    "# This will convert 200 minutes to hours by dividing by 60.\n",
    "minutes = 200\n",
    "hours = minutes / 60\n",
    "hours\n"
   ]
  },
  {
   "cell_type": "markdown",
   "id": "f6fa0b2a-d80d-4067-9e03-ca27580e1078",
   "metadata": {},
   "source": [
    "**Objectives:**\n",
    "\n",
    "- List popular languages for Data Science.\n",
    "- Introduce commonly used Data Science libraries.\n",
    "- Explore development environments for Data Science.\n"
   ]
  },
  {
   "cell_type": "markdown",
   "id": "8c243673-2427-42d5-8a42-5c44947d953a",
   "metadata": {},
   "source": [
    "Exercise 11 - Create a markdown cell to indicate the Author's name\n",
    "\n",
    "In this markdown cell markdown cell include the following text Author in H2 style heading. Include your name as regular text below the word Author"
   ]
  },
  {
   "cell_type": "markdown",
   "id": "9dc2de17-28b6-4876-87ab-a782c30bf235",
   "metadata": {
    "tags": []
   },
   "source": [
    "## Author\n",
    "\n",
    "Zeeshan Zahid\n"
   ]
  },
  {
   "cell_type": "code",
   "execution_count": null,
   "id": "350294de-6e59-40f9-b5b0-90220352ed74",
   "metadata": {},
   "outputs": [],
   "source": []
  }
 ],
 "metadata": {
  "kernelspec": {
   "display_name": "Python",
   "language": "python",
   "name": "conda-env-python-py"
  },
  "language_info": {
   "codemirror_mode": {
    "name": "ipython",
    "version": 3
   },
   "file_extension": ".py",
   "mimetype": "text/x-python",
   "name": "python",
   "nbconvert_exporter": "python",
   "pygments_lexer": "ipython3",
   "version": "3.7.12"
  }
 },
 "nbformat": 4,
 "nbformat_minor": 5
}
